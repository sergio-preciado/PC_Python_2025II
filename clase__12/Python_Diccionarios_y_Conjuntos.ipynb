{
  "nbformat": 4,
  "nbformat_minor": 0,
  "metadata": {
    "colab": {
      "provenance": [],
      "include_colab_link": true
    },
    "kernelspec": {
      "name": "python3",
      "display_name": "Python 3"
    },
    "language_info": {
      "name": "python"
    }
  },
  "cells": [
    {
      "cell_type": "markdown",
      "metadata": {
        "id": "view-in-github",
        "colab_type": "text"
      },
      "source": [
        "<a href=\"https://colab.research.google.com/github/sergio-preciado/PC_Python_2025II/blob/main/clase__12/Python_Diccionarios_y_Conjuntos.ipynb\" target=\"_parent\"><img src=\"https://colab.research.google.com/assets/colab-badge.svg\" alt=\"Open In Colab\"/></a>"
      ]
    },
    {
      "cell_type": "markdown",
      "source": [
        "# Curso de Programación de Computadores en Python\n",
        "## 🐍 **Diccionarios y Conjuntos (Dictionaries and Sets)**\n",
        "#### Universidad Nacional de Colombia\n",
        "---"
      ],
      "metadata": {
        "id": "562fPyB57J_c"
      }
    },
    {
      "cell_type": "markdown",
      "source": [
        "### 🔧 Cómo usar este notebook\n",
        "\n",
        "- Ejecuta las celdas de código con `Shift+Enter`.\n",
        "- Cada sección contiene explicación, ejemplos ejecutables y ejercicios.\n",
        "\n",
        "¡Manos a la obra! 🚀"
      ],
      "metadata": {
        "id": "Z-TJiHNL7s76"
      }
    },
    {
      "cell_type": "markdown",
      "source": [
        "## 🎯 Objetivos de aprendizaje\n",
        "- Comprender la estructura y características de los **diccionarios** (`dict`).  \n",
        "- Reconocer la diferencia entre **claves** y **valores**.  \n",
        "- Aprender a **crear**, **modificar** y **recorrer** diccionarios.  \n",
        "- Comprender qué son los **conjuntos (sets)** y sus **operaciones comunes**.  \n",
        "- Aplicar **operaciones de pertenencia y comparación** entre conjuntos."
      ],
      "metadata": {
        "id": "MNvM93FA76fW"
      }
    },
    {
      "cell_type": "markdown",
      "source": [
        "# 1️⃣ **Diccionarios: definición y creación**\n",
        "\n",
        "Los **diccionarios** (`dict`) son estructuras que almacenan **pares de clave–valor**,  \n",
        "permitiendo acceder rápidamente a la información mediante su **clave**.\n",
        "\n",
        "📘 **Características principales:**\n",
        "- Cada elemento tiene la forma `clave: valor`.  \n",
        "- Las **claves** deben ser únicas e **inmutables** (por ejemplo, strings o tuplas).  \n",
        "- Los **valores** pueden ser de cualquier tipo (números, listas, otros diccionarios, etc.).  \n",
        "- Se definen usando llaves `{}`.\n",
        "\n",
        "Ejemplo:"
      ],
      "metadata": {
        "id": "imcW_dMX8bnc"
      }
    },
    {
      "cell_type": "code",
      "source": [
        "# Ejemplo básico de diccionario\n",
        "persona = {\n",
        "    \"nombre\": \"Ana\",\n",
        "    \"edad\": 22,\n",
        "    \"ciudad\": \"Bogotá\"\n",
        "}\n",
        "\n",
        "print(persona)\n",
        "print(\"Nombre:\", persona[\"nombre\"])\n",
        "print(\"Edad:\", persona[\"edad\"])"
      ],
      "metadata": {
        "colab": {
          "base_uri": "https://localhost:8080/"
        },
        "id": "HvBuaBQoykWF",
        "outputId": "9f5612a2-5785-40a5-c7fc-159709bf2b1e"
      },
      "execution_count": null,
      "outputs": [
        {
          "output_type": "stream",
          "name": "stdout",
          "text": [
            "{'nombre': 'Ana', 'edad': 22, 'ciudad': 'Bogotá'}\n",
            "Nombre: Ana\n",
            "Edad: 22\n"
          ]
        }
      ]
    },
    {
      "cell_type": "markdown",
      "source": [
        "## 2️⃣ **Claves y valores: acceso y modificación**\n",
        "\n",
        "Podemos acceder, agregar o modificar los elementos de un diccionario utilizando sus **claves**.\n",
        "\n",
        "### 🔹 **Acceso a valores**\n",
        "\n",
        "Usamos el nombre del diccionario seguido de la **clave** entre corchetes:  \n",
        "`diccionario[\"clave\"]`\n",
        "\n",
        "También puedes usar el método `get()` para evitar errores si la clave no existe.\n",
        "\n",
        "### 🔹 **Modificación y adición**\n",
        "\n",
        "- Si la **clave ya existe**, el valor se **actualiza**.  \n",
        "- Si la **clave no existe**, se **crea** un nuevo par clave–valor.\n",
        "\n",
        "### 🔹 **Eliminación**\n",
        "\n",
        "Puedes eliminar elementos de distintas formas:\n",
        "- `pop(\"clave\")` → elimina un elemento específico.  \n",
        "- `del diccionario[\"clave\"]` → elimina por clave.  \n",
        "- `clear()` → elimina todos los elementos."
      ],
      "metadata": {
        "id": "X1htYJk7y69U"
      }
    },
    {
      "cell_type": "code",
      "source": [
        "#Ejemplo: acceso y modificación de diccionarios\n",
        "\n",
        "estudiante = {\n",
        "    \"nombre\": \"María\",\n",
        "    \"edad\": 19,\n",
        "    \"programa\": \"Ingeniería\"\n",
        "}\n",
        "\n",
        "# Acceso\n",
        "print(\"Nombre:\", estudiante[\"nombre\"])\n",
        "print(\"\\nEdad (con get):\", estudiante.get(\"edad\"))\n",
        "\n",
        "# Modificación\n",
        "estudiante[\"edad\"] = 20\n",
        "print(\"\\nEdad actualizada:\", estudiante[\"edad\"])\n",
        "\n",
        "# Adición\n",
        "estudiante[\"semestre\"] = 3\n",
        "print(\"\\nDiccionario tras agregar 'semestre':\", estudiante)\n",
        "\n",
        "# Eliminación\n",
        "estudiante.pop(\"programa\")\n",
        "print(\"\\nDiccionario tras eliminar 'programa':\", estudiante)"
      ],
      "metadata": {
        "colab": {
          "base_uri": "https://localhost:8080/"
        },
        "id": "GmsvUgoRztOh",
        "outputId": "827e22ae-301e-469a-d600-72e80b565104"
      },
      "execution_count": null,
      "outputs": [
        {
          "output_type": "stream",
          "name": "stdout",
          "text": [
            "Nombre: María\n",
            "\n",
            "Edad (con get): 19\n",
            "\n",
            "Edad actualizada: 20\n",
            "\n",
            "Diccionario tras agregar 'semestre': {'nombre': 'María', 'edad': 20, 'programa': 'Ingeniería', 'semestre': 3}\n",
            "\n",
            "Diccionario tras eliminar 'programa': {'nombre': 'María', 'edad': 20, 'semestre': 3}\n"
          ]
        }
      ]
    },
    {
      "cell_type": "markdown",
      "source": [
        "---\n",
        "\n",
        "## 3️⃣ **Métodos comunes de diccionarios**\n",
        "\n",
        "Python incluye varios **métodos incorporados** para trabajar fácilmente con los elementos de un diccionario.\n",
        "\n",
        "| Método | Descripción | Ejemplo |\n",
        "|:--------|:-------------|:----------|\n",
        "| `keys()` | Devuelve una vista con **todas las claves**. | `dic.keys()` |\n",
        "| `values()` | Devuelve una vista con **todos los valores**. | `dic.values()` |\n",
        "| `items()` | Devuelve una vista con **pares (clave, valor)**. | `dic.items()` |\n",
        "| `get(clave, valor_por_defecto)` | Retorna el valor asociado a la clave o el valor por defecto si no existe. | `dic.get(\"x\", 0)` |\n",
        "| `pop(clave)` | Elimina la clave especificada y devuelve su valor. | `dic.pop(\"nombre\")` |\n",
        "| `update(otro_dic)` | Combina o actualiza elementos desde otro diccionario. | `dic.update(nuevo)` |\n",
        "| `clear()` | Elimina todos los elementos del diccionario. | `dic.clear()` |"
      ],
      "metadata": {
        "id": "6zBFAaKf0Nsb"
      }
    },
    {
      "cell_type": "code",
      "source": [
        "#Ejemplo de métodos comunes en diccionarios\n",
        "\n",
        "producto = {\n",
        "    \"nombre\": \"Laptop\",\n",
        "    \"precio\": 3500,\n",
        "    \"stock\": 8\n",
        "}\n",
        "\n",
        "print(\"Claves:\", list(producto.keys()))\n",
        "print(\"Valores:\", list(producto.values()))\n",
        "print(\"Pares (clave, valor):\", list(producto.items()))\n",
        "\n",
        "# Acceso seguro con get()\n",
        "print(\"\\nColor:\", producto.get(\"color\", \"No especificado\"))\n",
        "\n",
        "# Actualizar y combinar\n",
        "producto.update({\"marca\": \"HP\", \"precio\": 3400})\n",
        "print(\"\\nDiccionario actualizado:\", producto)\n",
        "\n",
        "# Eliminar elemento\n",
        "producto.pop(\"stock\")\n",
        "print(\"\\nTras eliminar 'stock':\", producto)\n"
      ],
      "metadata": {
        "colab": {
          "base_uri": "https://localhost:8080/"
        },
        "id": "2-zXjrTq1FYN",
        "outputId": "03fcec24-60f9-4702-cf7b-69aa45292f49"
      },
      "execution_count": null,
      "outputs": [
        {
          "output_type": "stream",
          "name": "stdout",
          "text": [
            "Claves: ['nombre', 'precio', 'stock']\n",
            "Valores: ['Laptop', 3500, 8]\n",
            "Pares (clave, valor): [('nombre', 'Laptop'), ('precio', 3500), ('stock', 8)]\n",
            "\n",
            "Color: No especificado\n",
            "\n",
            "Diccionario actualizado: {'nombre': 'Laptop', 'precio': 3400, 'stock': 8, 'marca': 'HP'}\n",
            "\n",
            "Tras eliminar 'stock': {'nombre': 'Laptop', 'precio': 3400, 'marca': 'HP'}\n"
          ]
        }
      ]
    },
    {
      "cell_type": "markdown",
      "source": [
        "## 🧪 **Reto rápido (diccionarios)**"
      ],
      "metadata": {
        "id": "Ldizq4J41aoe"
      }
    },
    {
      "cell_type": "code",
      "source": [
        "#@title **Instrucciones:**\n",
        "#@markdown Observa el código y escribe tu **predicción** antes de ejecutarlo.\n",
        "#@markdown\n",
        "#@markdown ```python\n",
        "#@markdown inventario = {\"peras\": 10, \"manzanas\": 5, \"bananos\": 8}\n",
        "#@markdown inventario[\"peras\"] += 2\n",
        "#@markdown inventario[\"uvas\"] = 4\n",
        "#@markdown inventario.update({\"bananos\": 12})\n",
        "#@markdown print(inventario)\n",
        "#@markdown ```\n",
        "prediccion = \"\"  #@param {type:\"string\"}\n",
        "\n",
        "inventario = {\"peras\": 10, \"manzanas\": 5, \"bananos\": 8}\n",
        "inventario[\"peras\"] += 2\n",
        "inventario[\"uvas\"] = 4\n",
        "inventario.update({\"bananos\": 12})\n",
        "\n",
        "print(\"Salida real:\")\n",
        "print(inventario)\n",
        "print(\"\\nTu predicción:\")\n",
        "print(prediccion if prediccion.strip() else \"(sin respuesta)\")\n"
      ],
      "metadata": {
        "colab": {
          "base_uri": "https://localhost:8080/"
        },
        "cellView": "form",
        "id": "lC9bbPJ_Ki2a",
        "outputId": "28ddebb4-611c-4a01-9e95-f1a70d207676"
      },
      "execution_count": null,
      "outputs": [
        {
          "output_type": "stream",
          "name": "stdout",
          "text": [
            "Salida real:\n",
            "{'peras': 12, 'manzanas': 5, 'bananos': 12, 'uvas': 4}\n",
            "\n",
            "Tu predicción:\n",
            "(sin respuesta)\n"
          ]
        }
      ]
    },
    {
      "cell_type": "markdown",
      "source": [
        "## 4️⃣ **Recorrer un diccionario**\n",
        "\n",
        "Formas comunes de iterar:\n",
        "- `for clave in dic:` → recorre **claves**.\n",
        "- `for clave, valor in dic.items():` → recorre **pares (clave, valor)**.\n",
        "- `for valor in dic.values():` → recorre **valores**.\n",
        "\n",
        "Consejos:\n",
        "- Usa `items()` cuando necesites **clave y valor** a la vez.\n",
        "- `in` verifica existencia de una clave: `if \"k\" in dic: ...`"
      ],
      "metadata": {
        "id": "2JHIsIVXdQC9"
      }
    },
    {
      "cell_type": "code",
      "source": [
        "#Ejemplos Recorridos básicos en diccionarios\n",
        "persona = {\"nombre\": \"Ana\", \"edad\": 22, \"ciudad\": \"Bogotá\"}\n",
        "\n",
        "print(\"Claves:\")\n",
        "for k in persona:\n",
        "    print(\"-\", k)\n",
        "\n",
        "print(\"\\nValores:\")\n",
        "for v in persona.values():\n",
        "    print(\"-\", v)\n",
        "\n",
        "print(\"\\nPares (clave, valor):\")\n",
        "for k, v in persona.items():\n",
        "    print(f\"- {k}: {v}\")\n",
        "\n",
        "# Ejemplo rápido: sumar valores numéricos\n",
        "notas = {\"mat\": 4.2, \"prog\": 3.8, \"fis\": 4.5}\n",
        "suma = 0\n",
        "for _, v in notas.items():\n",
        "    if isinstance(v, (int, float)):\n",
        "        suma += v\n",
        "print(\"\\nSuma de valores numéricos en 'notas':\", suma)"
      ],
      "metadata": {
        "colab": {
          "base_uri": "https://localhost:8080/"
        },
        "id": "cK3vNPWzeMBf",
        "outputId": "3f361eb4-2219-40ef-83ea-463f299cd329"
      },
      "execution_count": null,
      "outputs": [
        {
          "output_type": "stream",
          "name": "stdout",
          "text": [
            "Claves:\n",
            "- nombre\n",
            "- edad\n",
            "- ciudad\n",
            "\n",
            "Valores:\n",
            "- Ana\n",
            "- 22\n",
            "- Bogotá\n",
            "\n",
            "Pares (clave, valor):\n",
            "- nombre: Ana\n",
            "- edad: 22\n",
            "- ciudad: Bogotá\n",
            "\n",
            "Suma de valores numéricos en 'notas': 12.5\n"
          ]
        }
      ]
    },
    {
      "cell_type": "markdown",
      "source": [
        "##5️⃣ **Diccionarios anidados (diccionarios de diccionarios)**\n",
        "\n",
        "Un **diccionario anidado** permite agrupar datos jerárquicos.  \n",
        "Por ejemplo: `continentes → países → capital`.\n",
        "\n",
        "Ejemplo de estructura:\n",
        "\n",
        "  \n",
        "```python\n",
        "continentes = {\n",
        "    \"América\": {\"Colombia\": \"Bogotá\", \"México\": \"Ciudad de México\"},\n",
        "    \"Europa\": {\"España\": \"Madrid\", \"Francia\": \"París\"}\n",
        "}\n",
        "```\n",
        "**¿Qué puedes hacer?**\n",
        "\n",
        "**Acceder:** continentes[\"Europa\"][\"Francia\"]\n",
        "\n",
        "**Agregar país:** continentes[\"América\"][\"Perú\"] = \"Lima\"\n",
        "\n",
        "**Recorrer** toda la jerarquía con dos for."
      ],
      "metadata": {
        "id": "LGLDEIkNezz2"
      }
    },
    {
      "cell_type": "code",
      "source": [
        "#Ejemplo Diccionario anidado: continentes → países → capitales\n",
        "continentes = {\n",
        "    \"América\": {\n",
        "        \"Colombia\": \"Bogotá\",\n",
        "        \"México\": \"Ciudad de México\",\n",
        "        \"Perú\": \"Lima\"\n",
        "    },\n",
        "    \"Europa\": {\n",
        "        \"España\": \"Madrid\",\n",
        "        \"Francia\": \"París\",\n",
        "        \"Alemania\": \"Berlín\"\n",
        "    },\n",
        "    \"Asia\": {\n",
        "        \"Japón\": \"Tokio\",\n",
        "        \"Corea del Sur\": \"Seúl\"\n",
        "    }\n",
        "}\n",
        "\n",
        "# Acceso directo\n",
        "print(\"Capital de Francia:\", continentes[\"Europa\"][\"Francia\"])\n",
        "\n",
        "# Agregar/actualizar\n",
        "continentes[\"América\"][\"Argentina\"] = \"Buenos Aires\"\n",
        "continentes[\"Asia\"][\"Japón\"] = \"Tokio\"  # (ejemplo de actualización)\n",
        "\n",
        "# Recorrer toda la jerarquía\n",
        "print(\"\\nListado de capitales por continente:\")\n",
        "for cont, paises in continentes.items():\n",
        "    print(f\"- {cont}:\")\n",
        "    for pais, capital in paises.items():\n",
        "        print(f\"   • {pais} → {capital}\")\n",
        "\n",
        "# Ejemplo: construir lista de (continente, país, capital)\n",
        "tripletas = [(c, p, cap) for c, ps in continentes.items() for p, cap in ps.items()]\n",
        "print(\"\\nTotal de países:\", len(tripletas))\n"
      ],
      "metadata": {
        "colab": {
          "base_uri": "https://localhost:8080/"
        },
        "id": "BkH0SIaxfmKL",
        "outputId": "b1a3da4f-fb66-420c-8bff-3f5eb95352d4"
      },
      "execution_count": null,
      "outputs": [
        {
          "output_type": "stream",
          "name": "stdout",
          "text": [
            "Capital de Francia: París\n",
            "\n",
            "Listado de capitales por continente:\n",
            "- América:\n",
            "   • Colombia → Bogotá\n",
            "   • México → Ciudad de México\n",
            "   • Perú → Lima\n",
            "   • Argentina → Buenos Aires\n",
            "- Europa:\n",
            "   • España → Madrid\n",
            "   • Francia → París\n",
            "   • Alemania → Berlín\n",
            "- Asia:\n",
            "   • Japón → Tokio\n",
            "   • Corea del Sur → Seúl\n",
            "\n",
            "Total de países: 9\n"
          ]
        }
      ]
    },
    {
      "cell_type": "markdown",
      "source": [
        "# 6️⃣ **Conjuntos (Sets): definición y creación**\n",
        "\n",
        "Los **conjuntos** (`set`) son estructuras **no ordenadas** que almacenan **elementos únicos**.  \n",
        "Se usan para realizar operaciones matemáticas como **uniones**, **intersecciones**, o **diferencias**,  \n",
        "y son muy útiles cuando queremos evitar duplicados.\n",
        "\n",
        "\n",
        "\n",
        "### 📘 **Características principales**\n",
        "- No permiten **elementos repetidos**.  \n",
        "- No conservan un **orden definido**.  \n",
        "- Son **mutables** (pueden modificarse), pero sus elementos deben ser **inmutables** (como números, strings o tuplas).  \n",
        "- Se definen usando **llaves `{}`** o la función `set()`.  \n",
        "\n",
        "\n",
        "Ejemplo:"
      ],
      "metadata": {
        "id": "tAfO5lEKLE34"
      }
    },
    {
      "cell_type": "code",
      "source": [
        "# Ejemplo básico de conjuntos (sets)\n",
        "frutas = {\"manzana\", \"pera\", \"mango\", \"pera\"}  # 'pera' duplicada se elimina\n",
        "print(\"Conjunto de frutas:\", frutas)\n",
        "\n",
        "# Creación vacía\n",
        "vacio = set()\n",
        "print(\"Tipo de 'vacio':\", type(vacio))\n",
        "\n",
        "# A partir de una lista\n",
        "lista = [1, 2, 2, 3, 4, 4, 5]\n",
        "numeros = set(lista)\n",
        "print(\"Conjunto sin duplicados:\", numeros)"
      ],
      "metadata": {
        "colab": {
          "base_uri": "https://localhost:8080/"
        },
        "id": "_YphQp0VLokZ",
        "outputId": "ccb63734-5dc8-427b-8d40-366503dc28ca"
      },
      "execution_count": null,
      "outputs": [
        {
          "output_type": "stream",
          "name": "stdout",
          "text": [
            "Conjunto de frutas: {'manzana', 'pera', 'mango'}\n",
            "Tipo de 'vacio': <class 'set'>\n",
            "Conjunto sin duplicados: {1, 2, 3, 4, 5}\n"
          ]
        }
      ]
    },
    {
      "cell_type": "markdown",
      "source": [
        "## 7️⃣ **Operaciones comunes con conjuntos**\n",
        "\n",
        "Los **conjuntos (sets)** permiten realizar operaciones típicas de la teoría de conjuntos:  \n",
        "**unión**, **intersección**, **diferencia** y **diferencia simétrica**.\n",
        "\n",
        "📘 Estas operaciones se pueden realizar usando **métodos** u **operadores especiales**.\n",
        "\n",
        "### 🔹 **Unión (`union` o `|`)**\n",
        "Combina los elementos de ambos conjuntos, **sin repetir**.\n",
        "\n",
        "### 🔹 **Intersección (`intersection` o `&`)**\n",
        "Devuelve los elementos que están **en ambos conjuntos**.\n",
        "\n",
        "### 🔹 **Diferencia (`difference` o `-`)**\n",
        "Devuelve los elementos que están en el primero **pero no en el segundo**.\n",
        "\n",
        "### 🔹 **Diferencia simétrica (`symmetric_difference` o `^`)**\n",
        "Devuelve los elementos que están **en uno u otro conjunto, pero no en ambos**."
      ],
      "metadata": {
        "id": "2YzxuJ73MDBr"
      }
    },
    {
      "cell_type": "code",
      "source": [
        "# Operaciones básicas con conjuntos\n",
        "A = {1, 2, 3, 4}\n",
        "B = {3, 4, 5, 6}\n",
        "\n",
        "print(\"A:\", A)\n",
        "print(\"B:\", B)\n",
        "\n",
        "print(\"\\nUnión (A | B):\", A | B)\n",
        "print(\"Intersección (A & B):\", A & B)\n",
        "print(\"Diferencia (A - B):\", A - B)\n",
        "print(\"Diferencia simétrica (A ^ B):\", A ^ B)"
      ],
      "metadata": {
        "colab": {
          "base_uri": "https://localhost:8080/"
        },
        "id": "zCJB9C87QF9a",
        "outputId": "9877a4e5-c076-4605-e281-484933a4a205"
      },
      "execution_count": null,
      "outputs": [
        {
          "output_type": "stream",
          "name": "stdout",
          "text": [
            "A: {1, 2, 3, 4}\n",
            "B: {3, 4, 5, 6}\n",
            "\n",
            "Unión (A | B): {1, 2, 3, 4, 5, 6}\n",
            "Intersección (A & B): {3, 4}\n",
            "Diferencia (A - B): {1, 2}\n",
            "Diferencia simétrica (A ^ B): {1, 2, 5, 6}\n"
          ]
        }
      ]
    },
    {
      "cell_type": "code",
      "source": [
        "# Operaciones con métodos\n",
        "A = {\"rojo\", \"verde\", \"azul\"}\n",
        "B = {\"verde\", \"amarillo\", \"rojo\"}\n",
        "\n",
        "print(\"Unión:\", A.union(B))\n",
        "print(\"Intersección:\", A.intersection(B))\n",
        "print(\"Diferencia:\", A.difference(B))\n",
        "print(\"Diferencia simétrica:\", A.symmetric_difference(B))"
      ],
      "metadata": {
        "colab": {
          "base_uri": "https://localhost:8080/"
        },
        "id": "Emsw7SXaQQ7j",
        "outputId": "a4941df1-712c-4785-e21a-dfea7eae36a4"
      },
      "execution_count": null,
      "outputs": [
        {
          "output_type": "stream",
          "name": "stdout",
          "text": [
            "Unión: {'azul', 'amarillo', 'rojo', 'verde'}\n",
            "Intersección: {'rojo', 'verde'}\n",
            "Diferencia: {'azul'}\n",
            "Diferencia simétrica: {'amarillo', 'azul'}\n"
          ]
        }
      ]
    },
    {
      "cell_type": "markdown",
      "source": [
        "### ⚙️ **Otras operaciones útiles con conjuntos**\n",
        "\n",
        "- `add(x)` → agrega un elemento.  \n",
        "- `remove(x)` → elimina un elemento (error si no existe).  \n",
        "- `discard(x)` → elimina un elemento **sin error** si no existe.  \n",
        "- `clear()` → elimina todos los elementos.  \n",
        "- `copy()` → devuelve una copia del conjunto.  \n",
        "- `in` → verifica si un elemento pertenece al conjunto.\n",
        "\n",
        "📗 **Ejemplo:**\n"
      ],
      "metadata": {
        "id": "1-YmfEt0QiRD"
      }
    },
    {
      "cell_type": "code",
      "source": [
        "# Ejemplo de métodos adicionales\n",
        "colores = {\"rojo\", \"verde\", \"azul\"}\n",
        "print(\"Inicial:\", colores)\n",
        "\n",
        "colores.add(\"negro\")\n",
        "print(\"Después de add:\", colores)\n",
        "\n",
        "colores.discard(\"verde\")\n",
        "print(\"Después de discard:\", colores)\n",
        "\n",
        "print(\"¿'azul' está en colores?\", \"azul\" in colores)\n",
        "\n",
        "colores.clear()\n",
        "print(\"Después de clear():\", colores)"
      ],
      "metadata": {
        "colab": {
          "base_uri": "https://localhost:8080/"
        },
        "id": "i4_GEMM6Q2lu",
        "outputId": "84b20d0b-8ca2-45be-921b-a8a1ea02f24b"
      },
      "execution_count": null,
      "outputs": [
        {
          "output_type": "stream",
          "name": "stdout",
          "text": [
            "Inicial: {'azul', 'rojo', 'verde'}\n",
            "Después de add: {'negro', 'azul', 'rojo', 'verde'}\n",
            "Después de discard: {'negro', 'azul', 'rojo'}\n",
            "¿'azul' está en colores? True\n",
            "Después de clear(): set()\n"
          ]
        }
      ]
    },
    {
      "cell_type": "markdown",
      "source": [
        "## 🧩 **Reto intermedio (sets)**"
      ],
      "metadata": {
        "id": "NG3KmbZBRQJ3"
      }
    },
    {
      "cell_type": "code",
      "source": [
        "#@title **Instrucciones:**\n",
        "#@markdown Analiza el siguiente código y escribe tu **predicción** antes de ejecutar la celda.\n",
        "#@markdown\n",
        "#@markdown ```python\n",
        "#@markdown A = {\"python\", \"java\", \"c++\", \"go\"}\n",
        "#@markdown B = {\"go\", \"rust\", \"python\"}\n",
        "#@markdown A.discard(\"java\")\n",
        "#@markdown C = A & B\n",
        "#@markdown A.add(\"rust\")\n",
        "#@markdown print(A)\n",
        "#@markdown print(B)\n",
        "#@markdown print(C)\n",
        "#@markdown ```\n",
        "prediccion = \"{\\\"python\\\", \\\"rust\\\", \\\"c++\\\", \\\"go\\\"} \"  #@param {type:\"string\"}\n",
        "\n",
        "A = {\"python\", \"java\", \"c++\", \"go\"}\n",
        "B = {\"go\", \"rust\", \"python\"}\n",
        "A.discard(\"java\")\n",
        "C = A & B\n",
        "A.add(\"rust\")\n",
        "\n",
        "print(\"Salida real:\")\n",
        "print(\"A:\", A)\n",
        "print(\"B:\", B)\n",
        "print(\"C (intersección):\", C)\n",
        "print(\"\\nTu predicción:\")\n",
        "print(prediccion if prediccion.strip() else \"(sin respuesta)\")"
      ],
      "metadata": {
        "colab": {
          "base_uri": "https://localhost:8080/"
        },
        "cellView": "form",
        "id": "x9GdTU0_RkLA",
        "outputId": "8170edda-b90f-475e-b46b-193e2d8023f9"
      },
      "execution_count": null,
      "outputs": [
        {
          "output_type": "stream",
          "name": "stdout",
          "text": [
            "Salida real:\n",
            "A: {'python', 'rust', 'c++', 'go'}\n",
            "B: {'rust', 'python', 'go'}\n",
            "C (intersección): {'python', 'go'}\n",
            "\n",
            "Tu predicción:\n",
            "(sin respuesta)\n"
          ]
        }
      ]
    },
    {
      "cell_type": "markdown",
      "source": [
        "---\n",
        "\n",
        "## 💡 **Tips y recomendaciones**\n",
        "\n",
        "### 🧭 **Diccionarios**\n",
        "\n",
        "- Usa claves **únicas** y **simples** (por ejemplo, strings cortos).  \n",
        "- Evita usar **listas** como claves, ya que no son inmutables.  \n",
        "- Verifica la existencia de una clave con `in` antes de acceder:  \n",
        "\n",
        "  ```python\n",
        "  if \"nombre\" in persona:\n",
        "      print(persona[\"nombre\"])\n",
        "  ```\n",
        "### 🧩 **Conjuntos**\n",
        "\n",
        "- Úsalos para **evitar duplicados** y **verificar pertenencia** rápidamente.  \n",
        "- Las operaciones (`|`, `&`, `-`, `^`) te permiten comparar grupos de datos fácilmente.  \n",
        "- Evita crear un conjunto vacío con `{}` — eso crea un diccionario. Usa `set()`.  \n",
        "- Si necesitas un conjunto inmutable, usa `frozenset()`.  \n",
        "- Los conjuntos **no conservan el orden**, así que no dependas de la posición de los elementos."
      ],
      "metadata": {
        "id": "hSSzOLj9S3fJ"
      }
    },
    {
      "cell_type": "markdown",
      "source": [
        "## 📚 **Recursos recomendados**\n",
        "- 🔗 **Documentación oficial de Python:**  \n",
        "  - [Diccionarios (`dict`)](https://docs.python.org/3/library/stdtypes.html#mapping-types-dict)  \n",
        "  - [Conjuntos (`set`)](https://docs.python.org/3/library/stdtypes.html#set-types-set-frozenset)  \n",
        "- 💡 **Libro:** *Think Python* – capítulos sobre diccionarios y conjuntos.  \n",
        "- 🧠 **Práctica adicional:** intenta crear ejercicios que combinen ambos — por ejemplo:  \n",
        "  un programa que use un diccionario con valores tipo `set` para agrupar información."
      ],
      "metadata": {
        "id": "qOYSD8S2Unkp"
      }
    },
    {
      "cell_type": "markdown",
      "source": [
        "---\n",
        "\n",
        "## 🧮 **Ejercicios**"
      ],
      "metadata": {
        "id": "JPDz-lpYVOgK"
      }
    },
    {
      "cell_type": "markdown",
      "source": [
        "a) Crea un diccionario que almacene tres estudiantes con sus calificaciones, y muestra el nombre del estudiante con la nota más alta."
      ],
      "metadata": {
        "id": "R1a9yxuCVTSX"
      }
    },
    {
      "cell_type": "code",
      "source": [
        "\"\"\"\n",
        "Aquí debajo escribe tu solución\n",
        "\"\"\""
      ],
      "metadata": {
        "id": "aFtnQJErVY-H"
      },
      "execution_count": null,
      "outputs": []
    },
    {
      "cell_type": "markdown",
      "source": [
        "b) Escribe un programa que pida el nombre de una fruta y su precio, y los agregue a un diccionario hasta que el usuario escriba `\"fin\"`. Luego muestra todas las frutas registradas."
      ],
      "metadata": {
        "id": "XqRCDa4KVlcG"
      }
    },
    {
      "cell_type": "code",
      "source": [
        "\"\"\"\n",
        "Aquí debajo escribe tu solución\n",
        "\"\"\""
      ],
      "metadata": {
        "id": "TnPj-RWtVnyR"
      },
      "execution_count": null,
      "outputs": []
    },
    {
      "cell_type": "markdown",
      "source": [
        "c) Diseña un programa que recorra un diccionario y cuente cuántos valores son números pares."
      ],
      "metadata": {
        "id": "6CaQaKlDVrnl"
      }
    },
    {
      "cell_type": "code",
      "source": [
        "\"\"\"\n",
        "Aquí debajo escribe tu solución\n",
        "\"\"\""
      ],
      "metadata": {
        "id": "jK7WgQAkV9y3"
      },
      "execution_count": null,
      "outputs": []
    },
    {
      "cell_type": "markdown",
      "source": [
        "d) Crea dos conjuntos `A` y `B` con algunos números y muestra:\n",
        "- Su unión  \n",
        "- Su intersección  \n",
        "- Su diferencia"
      ],
      "metadata": {
        "id": "PXaoBJUxV7mt"
      }
    },
    {
      "cell_type": "code",
      "source": [
        "\"\"\"\n",
        "Aquí debajo escribe tu solución\n",
        "\"\"\""
      ],
      "metadata": {
        "id": "sjycn3wsWAFx"
      },
      "execution_count": null,
      "outputs": []
    },
    {
      "cell_type": "markdown",
      "source": [
        "e) Diseña un programa que lea una lista de nombres y los almacene en un conjunto para eliminar duplicados. Luego muestra la cantidad de nombres únicos."
      ],
      "metadata": {
        "id": "ohf6xLXqWA1F"
      }
    },
    {
      "cell_type": "code",
      "source": [
        "\"\"\"\n",
        "Aquí debajo escribe tu solución\n",
        "\"\"\""
      ],
      "metadata": {
        "id": "IF6Sja6aWMJ6"
      },
      "execution_count": null,
      "outputs": []
    },
    {
      "cell_type": "markdown",
      "source": [
        "f) Usa un diccionario cuyas claves sean nombres de materias y los valores sean **conjuntos de estudiantes inscritos**. Luego muestra los estudiantes que están en **más de una materia**."
      ],
      "metadata": {
        "id": "6hOXrPErWPj0"
      }
    },
    {
      "cell_type": "code",
      "source": [
        "\"\"\"\n",
        "Aquí debajo escribe tu solución\n",
        "\"\"\""
      ],
      "metadata": {
        "id": "Y_c8_XNEWTEo"
      },
      "execution_count": null,
      "outputs": []
    }
  ]
}